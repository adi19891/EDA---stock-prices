{
 "cells": [
  {
   "cell_type": "code",
   "execution_count": 324,
   "metadata": {},
   "outputs": [],
   "source": [
    "import numpy as np\n",
    "import pandas as pd\n",
    "import matplotlib.pyplot as plt\n",
    "%matplotlib inline\n",
    "import seaborn as sns"
   ]
  },
  {
   "cell_type": "code",
   "execution_count": 325,
   "metadata": {
    "scrolled": true
   },
   "outputs": [
    {
     "name": "stdout",
     "output_type": "stream",
     "text": [
      "/Users/adityakamboj/Desktop/York/Lab1\n"
     ]
    }
   ],
   "source": [
    "cd /Users/adityakamboj/Desktop/York/Lab1/"
   ]
  },
  {
   "cell_type": "markdown",
   "metadata": {},
   "source": [
    "#### Importing csv"
   ]
  },
  {
   "cell_type": "code",
   "execution_count": 326,
   "metadata": {},
   "outputs": [
    {
     "data": {
      "text/html": [
       "<div>\n",
       "<style scoped>\n",
       "    .dataframe tbody tr th:only-of-type {\n",
       "        vertical-align: middle;\n",
       "    }\n",
       "\n",
       "    .dataframe tbody tr th {\n",
       "        vertical-align: top;\n",
       "    }\n",
       "\n",
       "    .dataframe thead th {\n",
       "        text-align: right;\n",
       "    }\n",
       "</style>\n",
       "<table border=\"1\" class=\"dataframe\">\n",
       "  <thead>\n",
       "    <tr style=\"text-align: right;\">\n",
       "      <th></th>\n",
       "      <th>Date</th>\n",
       "      <th>StockPrice</th>\n",
       "    </tr>\n",
       "  </thead>\n",
       "  <tbody>\n",
       "    <tr>\n",
       "      <th>0</th>\n",
       "      <td>1/1/70</td>\n",
       "      <td>27.853810</td>\n",
       "    </tr>\n",
       "    <tr>\n",
       "      <th>1</th>\n",
       "      <td>2/1/70</td>\n",
       "      <td>22.381053</td>\n",
       "    </tr>\n",
       "    <tr>\n",
       "      <th>2</th>\n",
       "      <td>3/1/70</td>\n",
       "      <td>23.105238</td>\n",
       "    </tr>\n",
       "    <tr>\n",
       "      <th>3</th>\n",
       "      <td>4/1/70</td>\n",
       "      <td>21.571364</td>\n",
       "    </tr>\n",
       "    <tr>\n",
       "      <th>4</th>\n",
       "      <td>5/1/70</td>\n",
       "      <td>18.932857</td>\n",
       "    </tr>\n",
       "  </tbody>\n",
       "</table>\n",
       "</div>"
      ],
      "text/plain": [
       "     Date  StockPrice\n",
       "0  1/1/70   27.853810\n",
       "1  2/1/70   22.381053\n",
       "2  3/1/70   23.105238\n",
       "3  4/1/70   21.571364\n",
       "4  5/1/70   18.932857"
      ]
     },
     "execution_count": 326,
     "metadata": {},
     "output_type": "execute_result"
    }
   ],
   "source": [
    "Boeing = pd.read_csv('BoeingStock.csv')\n",
    "Boeing.head()"
   ]
  },
  {
   "cell_type": "code",
   "execution_count": 327,
   "metadata": {},
   "outputs": [
    {
     "data": {
      "text/html": [
       "<div>\n",
       "<style scoped>\n",
       "    .dataframe tbody tr th:only-of-type {\n",
       "        vertical-align: middle;\n",
       "    }\n",
       "\n",
       "    .dataframe tbody tr th {\n",
       "        vertical-align: top;\n",
       "    }\n",
       "\n",
       "    .dataframe thead th {\n",
       "        text-align: right;\n",
       "    }\n",
       "</style>\n",
       "<table border=\"1\" class=\"dataframe\">\n",
       "  <thead>\n",
       "    <tr style=\"text-align: right;\">\n",
       "      <th></th>\n",
       "      <th>Date</th>\n",
       "      <th>StockPrice</th>\n",
       "    </tr>\n",
       "  </thead>\n",
       "  <tbody>\n",
       "    <tr>\n",
       "      <th>0</th>\n",
       "      <td>1/1/70</td>\n",
       "      <td>83.368095</td>\n",
       "    </tr>\n",
       "    <tr>\n",
       "      <th>1</th>\n",
       "      <td>2/1/70</td>\n",
       "      <td>81.591053</td>\n",
       "    </tr>\n",
       "    <tr>\n",
       "      <th>2</th>\n",
       "      <td>3/1/70</td>\n",
       "      <td>81.338095</td>\n",
       "    </tr>\n",
       "    <tr>\n",
       "      <th>3</th>\n",
       "      <td>4/1/70</td>\n",
       "      <td>76.805909</td>\n",
       "    </tr>\n",
       "    <tr>\n",
       "      <th>4</th>\n",
       "      <td>5/1/70</td>\n",
       "      <td>69.278571</td>\n",
       "    </tr>\n",
       "  </tbody>\n",
       "</table>\n",
       "</div>"
      ],
      "text/plain": [
       "     Date  StockPrice\n",
       "0  1/1/70   83.368095\n",
       "1  2/1/70   81.591053\n",
       "2  3/1/70   81.338095\n",
       "3  4/1/70   76.805909\n",
       "4  5/1/70   69.278571"
      ]
     },
     "execution_count": 327,
     "metadata": {},
     "output_type": "execute_result"
    }
   ],
   "source": [
    "Cocacola = pd.read_csv('CocaColaStock.csv')\n",
    "Cocacola.head()"
   ]
  },
  {
   "cell_type": "code",
   "execution_count": 328,
   "metadata": {},
   "outputs": [
    {
     "data": {
      "text/html": [
       "<div>\n",
       "<style scoped>\n",
       "    .dataframe tbody tr th:only-of-type {\n",
       "        vertical-align: middle;\n",
       "    }\n",
       "\n",
       "    .dataframe tbody tr th {\n",
       "        vertical-align: top;\n",
       "    }\n",
       "\n",
       "    .dataframe thead th {\n",
       "        text-align: right;\n",
       "    }\n",
       "</style>\n",
       "<table border=\"1\" class=\"dataframe\">\n",
       "  <thead>\n",
       "    <tr style=\"text-align: right;\">\n",
       "      <th></th>\n",
       "      <th>Date</th>\n",
       "      <th>StockPrice</th>\n",
       "    </tr>\n",
       "  </thead>\n",
       "  <tbody>\n",
       "    <tr>\n",
       "      <th>0</th>\n",
       "      <td>1/1/70</td>\n",
       "      <td>74.253333</td>\n",
       "    </tr>\n",
       "    <tr>\n",
       "      <th>1</th>\n",
       "      <td>2/1/70</td>\n",
       "      <td>69.976842</td>\n",
       "    </tr>\n",
       "    <tr>\n",
       "      <th>2</th>\n",
       "      <td>3/1/70</td>\n",
       "      <td>72.158571</td>\n",
       "    </tr>\n",
       "    <tr>\n",
       "      <th>3</th>\n",
       "      <td>4/1/70</td>\n",
       "      <td>74.252727</td>\n",
       "    </tr>\n",
       "    <tr>\n",
       "      <th>4</th>\n",
       "      <td>5/1/70</td>\n",
       "      <td>66.665238</td>\n",
       "    </tr>\n",
       "  </tbody>\n",
       "</table>\n",
       "</div>"
      ],
      "text/plain": [
       "     Date  StockPrice\n",
       "0  1/1/70   74.253333\n",
       "1  2/1/70   69.976842\n",
       "2  3/1/70   72.158571\n",
       "3  4/1/70   74.252727\n",
       "4  5/1/70   66.665238"
      ]
     },
     "execution_count": 328,
     "metadata": {},
     "output_type": "execute_result"
    }
   ],
   "source": [
    "GE = pd.read_csv('GEStock.csv')\n",
    "GE.head()"
   ]
  },
  {
   "cell_type": "code",
   "execution_count": 329,
   "metadata": {},
   "outputs": [
    {
     "data": {
      "text/html": [
       "<div>\n",
       "<style scoped>\n",
       "    .dataframe tbody tr th:only-of-type {\n",
       "        vertical-align: middle;\n",
       "    }\n",
       "\n",
       "    .dataframe tbody tr th {\n",
       "        vertical-align: top;\n",
       "    }\n",
       "\n",
       "    .dataframe thead th {\n",
       "        text-align: right;\n",
       "    }\n",
       "</style>\n",
       "<table border=\"1\" class=\"dataframe\">\n",
       "  <thead>\n",
       "    <tr style=\"text-align: right;\">\n",
       "      <th></th>\n",
       "      <th>Date</th>\n",
       "      <th>StockPrice</th>\n",
       "    </tr>\n",
       "  </thead>\n",
       "  <tbody>\n",
       "    <tr>\n",
       "      <th>0</th>\n",
       "      <td>1/1/70</td>\n",
       "      <td>360.319048</td>\n",
       "    </tr>\n",
       "    <tr>\n",
       "      <th>1</th>\n",
       "      <td>2/1/70</td>\n",
       "      <td>346.723684</td>\n",
       "    </tr>\n",
       "    <tr>\n",
       "      <th>2</th>\n",
       "      <td>3/1/70</td>\n",
       "      <td>327.345714</td>\n",
       "    </tr>\n",
       "    <tr>\n",
       "      <th>3</th>\n",
       "      <td>4/1/70</td>\n",
       "      <td>319.852727</td>\n",
       "    </tr>\n",
       "    <tr>\n",
       "      <th>4</th>\n",
       "      <td>5/1/70</td>\n",
       "      <td>270.375238</td>\n",
       "    </tr>\n",
       "  </tbody>\n",
       "</table>\n",
       "</div>"
      ],
      "text/plain": [
       "     Date  StockPrice\n",
       "0  1/1/70  360.319048\n",
       "1  2/1/70  346.723684\n",
       "2  3/1/70  327.345714\n",
       "3  4/1/70  319.852727\n",
       "4  5/1/70  270.375238"
      ]
     },
     "execution_count": 329,
     "metadata": {},
     "output_type": "execute_result"
    }
   ],
   "source": [
    "IBM = pd.read_csv('IBMStock.csv')\n",
    "IBM.head()"
   ]
  },
  {
   "cell_type": "code",
   "execution_count": 330,
   "metadata": {},
   "outputs": [
    {
     "data": {
      "text/html": [
       "<div>\n",
       "<style scoped>\n",
       "    .dataframe tbody tr th:only-of-type {\n",
       "        vertical-align: middle;\n",
       "    }\n",
       "\n",
       "    .dataframe tbody tr th {\n",
       "        vertical-align: top;\n",
       "    }\n",
       "\n",
       "    .dataframe thead th {\n",
       "        text-align: right;\n",
       "    }\n",
       "</style>\n",
       "<table border=\"1\" class=\"dataframe\">\n",
       "  <thead>\n",
       "    <tr style=\"text-align: right;\">\n",
       "      <th></th>\n",
       "      <th>Date</th>\n",
       "      <th>StockPrice</th>\n",
       "    </tr>\n",
       "  </thead>\n",
       "  <tbody>\n",
       "    <tr>\n",
       "      <th>0</th>\n",
       "      <td>1/1/70</td>\n",
       "      <td>111.874286</td>\n",
       "    </tr>\n",
       "    <tr>\n",
       "      <th>1</th>\n",
       "      <td>2/1/70</td>\n",
       "      <td>111.453684</td>\n",
       "    </tr>\n",
       "    <tr>\n",
       "      <th>2</th>\n",
       "      <td>3/1/70</td>\n",
       "      <td>108.451429</td>\n",
       "    </tr>\n",
       "    <tr>\n",
       "      <th>3</th>\n",
       "      <td>4/1/70</td>\n",
       "      <td>106.288636</td>\n",
       "    </tr>\n",
       "    <tr>\n",
       "      <th>4</th>\n",
       "      <td>5/1/70</td>\n",
       "      <td>73.332857</td>\n",
       "    </tr>\n",
       "  </tbody>\n",
       "</table>\n",
       "</div>"
      ],
      "text/plain": [
       "     Date  StockPrice\n",
       "0  1/1/70  111.874286\n",
       "1  2/1/70  111.453684\n",
       "2  3/1/70  108.451429\n",
       "3  4/1/70  106.288636\n",
       "4  5/1/70   73.332857"
      ]
     },
     "execution_count": 330,
     "metadata": {},
     "output_type": "execute_result"
    }
   ],
   "source": [
    "ProcterGamble = pd.read_csv('ProcterGambleStock.csv')\n",
    "ProcterGamble.head()"
   ]
  },
  {
   "cell_type": "code",
   "execution_count": 331,
   "metadata": {
    "scrolled": true
   },
   "outputs": [
    {
     "data": {
      "text/plain": [
       "Date           object\n",
       "StockPrice    float64\n",
       "dtype: object"
      ]
     },
     "execution_count": 331,
     "metadata": {},
     "output_type": "execute_result"
    }
   ],
   "source": [
    "GE.dtypes"
   ]
  },
  {
   "cell_type": "markdown",
   "metadata": {},
   "source": [
    "#### Coverting object type to Python date format\n",
    "\n"
   ]
  },
  {
   "cell_type": "code",
   "execution_count": 537,
   "metadata": {},
   "outputs": [],
   "source": [
    "#GE\n",
    "GE['Date'] = pd.to_datetime(GE['Date'])"
   ]
  },
  {
   "cell_type": "code",
   "execution_count": 333,
   "metadata": {},
   "outputs": [
    {
     "data": {
      "text/html": [
       "<div>\n",
       "<style scoped>\n",
       "    .dataframe tbody tr th:only-of-type {\n",
       "        vertical-align: middle;\n",
       "    }\n",
       "\n",
       "    .dataframe tbody tr th {\n",
       "        vertical-align: top;\n",
       "    }\n",
       "\n",
       "    .dataframe thead th {\n",
       "        text-align: right;\n",
       "    }\n",
       "</style>\n",
       "<table border=\"1\" class=\"dataframe\">\n",
       "  <thead>\n",
       "    <tr style=\"text-align: right;\">\n",
       "      <th></th>\n",
       "      <th>Date</th>\n",
       "      <th>StockPrice</th>\n",
       "    </tr>\n",
       "  </thead>\n",
       "  <tbody>\n",
       "    <tr>\n",
       "      <th>0</th>\n",
       "      <td>1970-01-01</td>\n",
       "      <td>74.253333</td>\n",
       "    </tr>\n",
       "    <tr>\n",
       "      <th>1</th>\n",
       "      <td>1970-02-01</td>\n",
       "      <td>69.976842</td>\n",
       "    </tr>\n",
       "    <tr>\n",
       "      <th>2</th>\n",
       "      <td>1970-03-01</td>\n",
       "      <td>72.158571</td>\n",
       "    </tr>\n",
       "    <tr>\n",
       "      <th>3</th>\n",
       "      <td>1970-04-01</td>\n",
       "      <td>74.252727</td>\n",
       "    </tr>\n",
       "    <tr>\n",
       "      <th>4</th>\n",
       "      <td>1970-05-01</td>\n",
       "      <td>66.665238</td>\n",
       "    </tr>\n",
       "  </tbody>\n",
       "</table>\n",
       "</div>"
      ],
      "text/plain": [
       "        Date  StockPrice\n",
       "0 1970-01-01   74.253333\n",
       "1 1970-02-01   69.976842\n",
       "2 1970-03-01   72.158571\n",
       "3 1970-04-01   74.252727\n",
       "4 1970-05-01   66.665238"
      ]
     },
     "execution_count": 333,
     "metadata": {},
     "output_type": "execute_result"
    }
   ],
   "source": [
    "GE.head()"
   ]
  },
  {
   "cell_type": "code",
   "execution_count": 334,
   "metadata": {},
   "outputs": [
    {
     "data": {
      "text/plain": [
       "Date          datetime64[ns]\n",
       "StockPrice           float64\n",
       "dtype: object"
      ]
     },
     "execution_count": 334,
     "metadata": {},
     "output_type": "execute_result"
    }
   ],
   "source": [
    "GE.dtypes"
   ]
  },
  {
   "cell_type": "code",
   "execution_count": 538,
   "metadata": {},
   "outputs": [
    {
     "data": {
      "text/html": [
       "<div>\n",
       "<style scoped>\n",
       "    .dataframe tbody tr th:only-of-type {\n",
       "        vertical-align: middle;\n",
       "    }\n",
       "\n",
       "    .dataframe tbody tr th {\n",
       "        vertical-align: top;\n",
       "    }\n",
       "\n",
       "    .dataframe thead th {\n",
       "        text-align: right;\n",
       "    }\n",
       "</style>\n",
       "<table border=\"1\" class=\"dataframe\">\n",
       "  <thead>\n",
       "    <tr style=\"text-align: right;\">\n",
       "      <th></th>\n",
       "      <th>Date</th>\n",
       "      <th>StockPrice</th>\n",
       "    </tr>\n",
       "  </thead>\n",
       "  <tbody>\n",
       "    <tr>\n",
       "      <th>0</th>\n",
       "      <td>1970-01-01</td>\n",
       "      <td>27.853810</td>\n",
       "    </tr>\n",
       "    <tr>\n",
       "      <th>1</th>\n",
       "      <td>1970-02-01</td>\n",
       "      <td>22.381053</td>\n",
       "    </tr>\n",
       "    <tr>\n",
       "      <th>2</th>\n",
       "      <td>1970-03-01</td>\n",
       "      <td>23.105238</td>\n",
       "    </tr>\n",
       "    <tr>\n",
       "      <th>3</th>\n",
       "      <td>1970-04-01</td>\n",
       "      <td>21.571364</td>\n",
       "    </tr>\n",
       "    <tr>\n",
       "      <th>4</th>\n",
       "      <td>1970-05-01</td>\n",
       "      <td>18.932857</td>\n",
       "    </tr>\n",
       "  </tbody>\n",
       "</table>\n",
       "</div>"
      ],
      "text/plain": [
       "        Date  StockPrice\n",
       "0 1970-01-01   27.853810\n",
       "1 1970-02-01   22.381053\n",
       "2 1970-03-01   23.105238\n",
       "3 1970-04-01   21.571364\n",
       "4 1970-05-01   18.932857"
      ]
     },
     "execution_count": 538,
     "metadata": {},
     "output_type": "execute_result"
    }
   ],
   "source": [
    "#Boeing\n",
    "Boeing['Date'] = pd.to_datetime(Boeing['Date'])\n",
    "Boeing.head()"
   ]
  },
  {
   "cell_type": "code",
   "execution_count": 539,
   "metadata": {},
   "outputs": [
    {
     "data": {
      "text/html": [
       "<div>\n",
       "<style scoped>\n",
       "    .dataframe tbody tr th:only-of-type {\n",
       "        vertical-align: middle;\n",
       "    }\n",
       "\n",
       "    .dataframe tbody tr th {\n",
       "        vertical-align: top;\n",
       "    }\n",
       "\n",
       "    .dataframe thead th {\n",
       "        text-align: right;\n",
       "    }\n",
       "</style>\n",
       "<table border=\"1\" class=\"dataframe\">\n",
       "  <thead>\n",
       "    <tr style=\"text-align: right;\">\n",
       "      <th></th>\n",
       "      <th>Date</th>\n",
       "      <th>StockPrice</th>\n",
       "    </tr>\n",
       "  </thead>\n",
       "  <tbody>\n",
       "    <tr>\n",
       "      <th>0</th>\n",
       "      <td>1970-01-01</td>\n",
       "      <td>83.368095</td>\n",
       "    </tr>\n",
       "    <tr>\n",
       "      <th>1</th>\n",
       "      <td>1970-02-01</td>\n",
       "      <td>81.591053</td>\n",
       "    </tr>\n",
       "    <tr>\n",
       "      <th>2</th>\n",
       "      <td>1970-03-01</td>\n",
       "      <td>81.338095</td>\n",
       "    </tr>\n",
       "    <tr>\n",
       "      <th>3</th>\n",
       "      <td>1970-04-01</td>\n",
       "      <td>76.805909</td>\n",
       "    </tr>\n",
       "    <tr>\n",
       "      <th>4</th>\n",
       "      <td>1970-05-01</td>\n",
       "      <td>69.278571</td>\n",
       "    </tr>\n",
       "  </tbody>\n",
       "</table>\n",
       "</div>"
      ],
      "text/plain": [
       "        Date  StockPrice\n",
       "0 1970-01-01   83.368095\n",
       "1 1970-02-01   81.591053\n",
       "2 1970-03-01   81.338095\n",
       "3 1970-04-01   76.805909\n",
       "4 1970-05-01   69.278571"
      ]
     },
     "execution_count": 539,
     "metadata": {},
     "output_type": "execute_result"
    }
   ],
   "source": [
    "#Coke\n",
    "Cocacola['Date'] = pd.to_datetime(Cocacola['Date'])\n",
    "Cocacola.head()"
   ]
  },
  {
   "cell_type": "code",
   "execution_count": 540,
   "metadata": {},
   "outputs": [
    {
     "data": {
      "text/html": [
       "<div>\n",
       "<style scoped>\n",
       "    .dataframe tbody tr th:only-of-type {\n",
       "        vertical-align: middle;\n",
       "    }\n",
       "\n",
       "    .dataframe tbody tr th {\n",
       "        vertical-align: top;\n",
       "    }\n",
       "\n",
       "    .dataframe thead th {\n",
       "        text-align: right;\n",
       "    }\n",
       "</style>\n",
       "<table border=\"1\" class=\"dataframe\">\n",
       "  <thead>\n",
       "    <tr style=\"text-align: right;\">\n",
       "      <th></th>\n",
       "      <th>Date</th>\n",
       "      <th>StockPrice</th>\n",
       "    </tr>\n",
       "  </thead>\n",
       "  <tbody>\n",
       "    <tr>\n",
       "      <th>0</th>\n",
       "      <td>1970-01-01</td>\n",
       "      <td>360.319048</td>\n",
       "    </tr>\n",
       "    <tr>\n",
       "      <th>1</th>\n",
       "      <td>1970-02-01</td>\n",
       "      <td>346.723684</td>\n",
       "    </tr>\n",
       "    <tr>\n",
       "      <th>2</th>\n",
       "      <td>1970-03-01</td>\n",
       "      <td>327.345714</td>\n",
       "    </tr>\n",
       "    <tr>\n",
       "      <th>3</th>\n",
       "      <td>1970-04-01</td>\n",
       "      <td>319.852727</td>\n",
       "    </tr>\n",
       "    <tr>\n",
       "      <th>4</th>\n",
       "      <td>1970-05-01</td>\n",
       "      <td>270.375238</td>\n",
       "    </tr>\n",
       "  </tbody>\n",
       "</table>\n",
       "</div>"
      ],
      "text/plain": [
       "        Date  StockPrice\n",
       "0 1970-01-01  360.319048\n",
       "1 1970-02-01  346.723684\n",
       "2 1970-03-01  327.345714\n",
       "3 1970-04-01  319.852727\n",
       "4 1970-05-01  270.375238"
      ]
     },
     "execution_count": 540,
     "metadata": {},
     "output_type": "execute_result"
    }
   ],
   "source": [
    "#IBM\n",
    "IBM['Date'] = pd.to_datetime(IBM['Date'])\n",
    "IBM.head()"
   ]
  },
  {
   "cell_type": "code",
   "execution_count": 541,
   "metadata": {},
   "outputs": [
    {
     "data": {
      "text/html": [
       "<div>\n",
       "<style scoped>\n",
       "    .dataframe tbody tr th:only-of-type {\n",
       "        vertical-align: middle;\n",
       "    }\n",
       "\n",
       "    .dataframe tbody tr th {\n",
       "        vertical-align: top;\n",
       "    }\n",
       "\n",
       "    .dataframe thead th {\n",
       "        text-align: right;\n",
       "    }\n",
       "</style>\n",
       "<table border=\"1\" class=\"dataframe\">\n",
       "  <thead>\n",
       "    <tr style=\"text-align: right;\">\n",
       "      <th></th>\n",
       "      <th>Date</th>\n",
       "      <th>StockPrice</th>\n",
       "    </tr>\n",
       "  </thead>\n",
       "  <tbody>\n",
       "    <tr>\n",
       "      <th>0</th>\n",
       "      <td>1970-01-01</td>\n",
       "      <td>111.874286</td>\n",
       "    </tr>\n",
       "    <tr>\n",
       "      <th>1</th>\n",
       "      <td>1970-02-01</td>\n",
       "      <td>111.453684</td>\n",
       "    </tr>\n",
       "    <tr>\n",
       "      <th>2</th>\n",
       "      <td>1970-03-01</td>\n",
       "      <td>108.451429</td>\n",
       "    </tr>\n",
       "    <tr>\n",
       "      <th>3</th>\n",
       "      <td>1970-04-01</td>\n",
       "      <td>106.288636</td>\n",
       "    </tr>\n",
       "    <tr>\n",
       "      <th>4</th>\n",
       "      <td>1970-05-01</td>\n",
       "      <td>73.332857</td>\n",
       "    </tr>\n",
       "  </tbody>\n",
       "</table>\n",
       "</div>"
      ],
      "text/plain": [
       "        Date  StockPrice\n",
       "0 1970-01-01  111.874286\n",
       "1 1970-02-01  111.453684\n",
       "2 1970-03-01  108.451429\n",
       "3 1970-04-01  106.288636\n",
       "4 1970-05-01   73.332857"
      ]
     },
     "execution_count": 541,
     "metadata": {},
     "output_type": "execute_result"
    }
   ],
   "source": [
    "#P&G\n",
    "ProcterGamble['Date'] = pd.to_datetime(ProcterGamble['Date'])\n",
    "ProcterGamble.head()"
   ]
  },
  {
   "cell_type": "markdown",
   "metadata": {},
   "source": [
    "#### Basic Statistics"
   ]
  },
  {
   "cell_type": "code",
   "execution_count": 339,
   "metadata": {
    "scrolled": true
   },
   "outputs": [
    {
     "data": {
      "text/html": [
       "<div>\n",
       "<style scoped>\n",
       "    .dataframe tbody tr th:only-of-type {\n",
       "        vertical-align: middle;\n",
       "    }\n",
       "\n",
       "    .dataframe tbody tr th {\n",
       "        vertical-align: top;\n",
       "    }\n",
       "\n",
       "    .dataframe thead th {\n",
       "        text-align: right;\n",
       "    }\n",
       "</style>\n",
       "<table border=\"1\" class=\"dataframe\">\n",
       "  <thead>\n",
       "    <tr style=\"text-align: right;\">\n",
       "      <th></th>\n",
       "      <th>StockPrice</th>\n",
       "    </tr>\n",
       "  </thead>\n",
       "  <tbody>\n",
       "    <tr>\n",
       "      <th>count</th>\n",
       "      <td>480.000000</td>\n",
       "    </tr>\n",
       "    <tr>\n",
       "      <th>mean</th>\n",
       "      <td>59.303504</td>\n",
       "    </tr>\n",
       "    <tr>\n",
       "      <th>std</th>\n",
       "      <td>23.992551</td>\n",
       "    </tr>\n",
       "    <tr>\n",
       "      <th>min</th>\n",
       "      <td>9.293636</td>\n",
       "    </tr>\n",
       "    <tr>\n",
       "      <th>25%</th>\n",
       "      <td>44.214405</td>\n",
       "    </tr>\n",
       "    <tr>\n",
       "      <th>50%</th>\n",
       "      <td>55.812045</td>\n",
       "    </tr>\n",
       "    <tr>\n",
       "      <th>75%</th>\n",
       "      <td>72.226201</td>\n",
       "    </tr>\n",
       "    <tr>\n",
       "      <th>max</th>\n",
       "      <td>156.843684</td>\n",
       "    </tr>\n",
       "  </tbody>\n",
       "</table>\n",
       "</div>"
      ],
      "text/plain": [
       "       StockPrice\n",
       "count  480.000000\n",
       "mean    59.303504\n",
       "std     23.992551\n",
       "min      9.293636\n",
       "25%     44.214405\n",
       "50%     55.812045\n",
       "75%     72.226201\n",
       "max    156.843684"
      ]
     },
     "execution_count": 339,
     "metadata": {},
     "output_type": "execute_result"
    }
   ],
   "source": [
    "GE.describe()"
   ]
  },
  {
   "cell_type": "code",
   "execution_count": 340,
   "metadata": {},
   "outputs": [
    {
     "data": {
      "text/html": [
       "<div>\n",
       "<style scoped>\n",
       "    .dataframe tbody tr th:only-of-type {\n",
       "        vertical-align: middle;\n",
       "    }\n",
       "\n",
       "    .dataframe tbody tr th {\n",
       "        vertical-align: top;\n",
       "    }\n",
       "\n",
       "    .dataframe thead th {\n",
       "        text-align: right;\n",
       "    }\n",
       "</style>\n",
       "<table border=\"1\" class=\"dataframe\">\n",
       "  <thead>\n",
       "    <tr style=\"text-align: right;\">\n",
       "      <th></th>\n",
       "      <th>StockPrice</th>\n",
       "    </tr>\n",
       "  </thead>\n",
       "  <tbody>\n",
       "    <tr>\n",
       "      <th>count</th>\n",
       "      <td>480.000000</td>\n",
       "    </tr>\n",
       "    <tr>\n",
       "      <th>mean</th>\n",
       "      <td>144.375030</td>\n",
       "    </tr>\n",
       "    <tr>\n",
       "      <th>std</th>\n",
       "      <td>87.822078</td>\n",
       "    </tr>\n",
       "    <tr>\n",
       "      <th>min</th>\n",
       "      <td>43.395000</td>\n",
       "    </tr>\n",
       "    <tr>\n",
       "      <th>25%</th>\n",
       "      <td>88.343929</td>\n",
       "    </tr>\n",
       "    <tr>\n",
       "      <th>50%</th>\n",
       "      <td>112.114595</td>\n",
       "    </tr>\n",
       "    <tr>\n",
       "      <th>75%</th>\n",
       "      <td>165.407284</td>\n",
       "    </tr>\n",
       "    <tr>\n",
       "      <th>max</th>\n",
       "      <td>438.901579</td>\n",
       "    </tr>\n",
       "  </tbody>\n",
       "</table>\n",
       "</div>"
      ],
      "text/plain": [
       "       StockPrice\n",
       "count  480.000000\n",
       "mean   144.375030\n",
       "std     87.822078\n",
       "min     43.395000\n",
       "25%     88.343929\n",
       "50%    112.114595\n",
       "75%    165.407284\n",
       "max    438.901579"
      ]
     },
     "execution_count": 340,
     "metadata": {},
     "output_type": "execute_result"
    }
   ],
   "source": [
    "IBM.describe()"
   ]
  },
  {
   "cell_type": "code",
   "execution_count": 341,
   "metadata": {},
   "outputs": [
    {
     "data": {
      "text/html": [
       "<div>\n",
       "<style scoped>\n",
       "    .dataframe tbody tr th:only-of-type {\n",
       "        vertical-align: middle;\n",
       "    }\n",
       "\n",
       "    .dataframe tbody tr th {\n",
       "        vertical-align: top;\n",
       "    }\n",
       "\n",
       "    .dataframe thead th {\n",
       "        text-align: right;\n",
       "    }\n",
       "</style>\n",
       "<table border=\"1\" class=\"dataframe\">\n",
       "  <thead>\n",
       "    <tr style=\"text-align: right;\">\n",
       "      <th></th>\n",
       "      <th>StockPrice</th>\n",
       "    </tr>\n",
       "  </thead>\n",
       "  <tbody>\n",
       "    <tr>\n",
       "      <th>count</th>\n",
       "      <td>480.000000</td>\n",
       "    </tr>\n",
       "    <tr>\n",
       "      <th>mean</th>\n",
       "      <td>77.704516</td>\n",
       "    </tr>\n",
       "    <tr>\n",
       "      <th>std</th>\n",
       "      <td>18.194140</td>\n",
       "    </tr>\n",
       "    <tr>\n",
       "      <th>min</th>\n",
       "      <td>46.884545</td>\n",
       "    </tr>\n",
       "    <tr>\n",
       "      <th>25%</th>\n",
       "      <td>62.478663</td>\n",
       "    </tr>\n",
       "    <tr>\n",
       "      <th>50%</th>\n",
       "      <td>78.336077</td>\n",
       "    </tr>\n",
       "    <tr>\n",
       "      <th>75%</th>\n",
       "      <td>89.468375</td>\n",
       "    </tr>\n",
       "    <tr>\n",
       "      <th>max</th>\n",
       "      <td>149.620000</td>\n",
       "    </tr>\n",
       "  </tbody>\n",
       "</table>\n",
       "</div>"
      ],
      "text/plain": [
       "       StockPrice\n",
       "count  480.000000\n",
       "mean    77.704516\n",
       "std     18.194140\n",
       "min     46.884545\n",
       "25%     62.478663\n",
       "50%     78.336077\n",
       "75%     89.468375\n",
       "max    149.620000"
      ]
     },
     "execution_count": 341,
     "metadata": {},
     "output_type": "execute_result"
    }
   ],
   "source": [
    "ProcterGamble.describe()"
   ]
  },
  {
   "cell_type": "code",
   "execution_count": 342,
   "metadata": {},
   "outputs": [
    {
     "data": {
      "text/html": [
       "<div>\n",
       "<style scoped>\n",
       "    .dataframe tbody tr th:only-of-type {\n",
       "        vertical-align: middle;\n",
       "    }\n",
       "\n",
       "    .dataframe tbody tr th {\n",
       "        vertical-align: top;\n",
       "    }\n",
       "\n",
       "    .dataframe thead th {\n",
       "        text-align: right;\n",
       "    }\n",
       "</style>\n",
       "<table border=\"1\" class=\"dataframe\">\n",
       "  <thead>\n",
       "    <tr style=\"text-align: right;\">\n",
       "      <th></th>\n",
       "      <th>StockPrice</th>\n",
       "    </tr>\n",
       "  </thead>\n",
       "  <tbody>\n",
       "    <tr>\n",
       "      <th>count</th>\n",
       "      <td>480.000000</td>\n",
       "    </tr>\n",
       "    <tr>\n",
       "      <th>mean</th>\n",
       "      <td>60.029730</td>\n",
       "    </tr>\n",
       "    <tr>\n",
       "      <th>std</th>\n",
       "      <td>25.166291</td>\n",
       "    </tr>\n",
       "    <tr>\n",
       "      <th>min</th>\n",
       "      <td>30.057143</td>\n",
       "    </tr>\n",
       "    <tr>\n",
       "      <th>25%</th>\n",
       "      <td>42.755595</td>\n",
       "    </tr>\n",
       "    <tr>\n",
       "      <th>50%</th>\n",
       "      <td>51.436988</td>\n",
       "    </tr>\n",
       "    <tr>\n",
       "      <th>75%</th>\n",
       "      <td>69.617192</td>\n",
       "    </tr>\n",
       "    <tr>\n",
       "      <th>max</th>\n",
       "      <td>146.584286</td>\n",
       "    </tr>\n",
       "  </tbody>\n",
       "</table>\n",
       "</div>"
      ],
      "text/plain": [
       "       StockPrice\n",
       "count  480.000000\n",
       "mean    60.029730\n",
       "std     25.166291\n",
       "min     30.057143\n",
       "25%     42.755595\n",
       "50%     51.436988\n",
       "75%     69.617192\n",
       "max    146.584286"
      ]
     },
     "execution_count": 342,
     "metadata": {},
     "output_type": "execute_result"
    }
   ],
   "source": [
    "Cocacola.describe()"
   ]
  },
  {
   "cell_type": "code",
   "execution_count": 343,
   "metadata": {
    "scrolled": true
   },
   "outputs": [
    {
     "data": {
      "text/html": [
       "<div>\n",
       "<style scoped>\n",
       "    .dataframe tbody tr th:only-of-type {\n",
       "        vertical-align: middle;\n",
       "    }\n",
       "\n",
       "    .dataframe tbody tr th {\n",
       "        vertical-align: top;\n",
       "    }\n",
       "\n",
       "    .dataframe thead th {\n",
       "        text-align: right;\n",
       "    }\n",
       "</style>\n",
       "<table border=\"1\" class=\"dataframe\">\n",
       "  <thead>\n",
       "    <tr style=\"text-align: right;\">\n",
       "      <th></th>\n",
       "      <th>StockPrice</th>\n",
       "    </tr>\n",
       "  </thead>\n",
       "  <tbody>\n",
       "    <tr>\n",
       "      <th>count</th>\n",
       "      <td>480.000000</td>\n",
       "    </tr>\n",
       "    <tr>\n",
       "      <th>mean</th>\n",
       "      <td>46.592934</td>\n",
       "    </tr>\n",
       "    <tr>\n",
       "      <th>std</th>\n",
       "      <td>19.891837</td>\n",
       "    </tr>\n",
       "    <tr>\n",
       "      <th>min</th>\n",
       "      <td>12.736364</td>\n",
       "    </tr>\n",
       "    <tr>\n",
       "      <th>25%</th>\n",
       "      <td>34.642274</td>\n",
       "    </tr>\n",
       "    <tr>\n",
       "      <th>50%</th>\n",
       "      <td>44.883398</td>\n",
       "    </tr>\n",
       "    <tr>\n",
       "      <th>75%</th>\n",
       "      <td>57.214486</td>\n",
       "    </tr>\n",
       "    <tr>\n",
       "      <th>max</th>\n",
       "      <td>107.280000</td>\n",
       "    </tr>\n",
       "  </tbody>\n",
       "</table>\n",
       "</div>"
      ],
      "text/plain": [
       "       StockPrice\n",
       "count  480.000000\n",
       "mean    46.592934\n",
       "std     19.891837\n",
       "min     12.736364\n",
       "25%     34.642274\n",
       "50%     44.883398\n",
       "75%     57.214486\n",
       "max    107.280000"
      ]
     },
     "execution_count": 343,
     "metadata": {},
     "output_type": "execute_result"
    }
   ],
   "source": [
    "Boeing.describe()"
   ]
  },
  {
   "cell_type": "code",
   "execution_count": 543,
   "metadata": {},
   "outputs": [
    {
     "name": "stdout",
     "output_type": "stream",
     "text": [
      "2009-12-01 00:00:00\n",
      "2009-12-01 00:00:00\n",
      "2009-12-01 00:00:00\n"
     ]
    }
   ],
   "source": [
    "# Checking earliest and latest dates\n",
    "print(max(Boeing['Date']))\n",
    "print(max(ProcterGamble['Date']))\n",
    "print(max(IBM['Date']))"
   ]
  },
  {
   "cell_type": "code",
   "execution_count": 547,
   "metadata": {},
   "outputs": [
    {
     "data": {
      "text/plain": [
       "StockPrice    69.675667\n",
       "dtype: float64"
      ]
     },
     "execution_count": 547,
     "metadata": {},
     "output_type": "execute_result"
    }
   ],
   "source": [
    "# Median Boeing price\n",
    "Boeing[Boeing['Date']>='2005-01-01'].median()"
   ]
  },
  {
   "cell_type": "markdown",
   "metadata": {},
   "source": [
    "### Part 1\n",
    "\n",
    "\n",
    "1. How many rows of data are in each dataset?\n",
    "  \n",
    "  **480**\n",
    "  \n",
    "  \n",
    "2. What is the earliest/latest year in our datasets?\n",
    "\n",
    "  **1970 to 2009**\n",
    "  \n",
    "  \n",
    "3. For the period above what is the average stock price of Coca Cola?\n",
    "\n",
    "  **$60.03**\n",
    "  \n",
    "  \n",
    "4. What is the maximum price of IBM during this period?\n",
    "\n",
    "  **$438.90**\n",
    "  \n",
    "  \n",
    "5. What is the standard deviation of P&G stock price over this period?\n",
    "\n",
    "  **18.194**\n",
    "  \n",
    "  \n",
    "6. What is the median price of Boeing in the last 5 years for which we have data?\n",
    "\n",
    "  **$69.675**\n",
    "  \n",
    "  "
   ]
  },
  {
   "cell_type": "markdown",
   "metadata": {},
   "source": [
    "### Basic Plotting"
   ]
  },
  {
   "cell_type": "code",
   "execution_count": 548,
   "metadata": {},
   "outputs": [
    {
     "name": "stdout",
     "output_type": "stream",
     "text": [
      "[<matplotlib.lines.Line2D object at 0x1a1e507be0>]\n"
     ]
    },
    {
     "data": {
      "image/png": "[encoded data removed]",
      "text/plain": [
       "<Figure size 432x288 with 1 Axes>"
      ]
     },
     "metadata": {
      "needs_background": "light"
     },
     "output_type": "display_data"
    }
   ],
   "source": [
    "# Coca cola stock price line plot\n",
    "print(plt.plot(Cocacola.Date, Cocacola.StockPrice))"
   ]
  },
  {
   "cell_type": "code",
   "execution_count": 549,
   "metadata": {
    "scrolled": true
   },
   "outputs": [
    {
     "name": "stdout",
     "output_type": "stream",
     "text": [
      "1685.6658747000001\n",
      "396.57046481\n"
     ]
    }
   ],
   "source": [
    "Cocacola.groupby([Cocacola.Date.dt.year]).StockPrice.sum().head(20)\n",
    "print(max(Cocacola.groupby([Cocacola.Date.dt.year]).StockPrice.sum()))\n",
    "print(min(Cocacola.groupby([Cocacola.Date.dt.year]).StockPrice.sum()))"
   ]
  },
  {
   "cell_type": "code",
   "execution_count": 351,
   "metadata": {
    "scrolled": true
   },
   "outputs": [
    {
     "data": {
      "text/plain": [
       "0   1970-01-01\n",
       "1   1970-02-01\n",
       "2   1970-03-01\n",
       "3   1970-04-01\n",
       "4   1970-05-01\n",
       "Name: Date, dtype: datetime64[ns]"
      ]
     },
     "execution_count": 351,
     "metadata": {},
     "output_type": "execute_result"
    }
   ],
   "source": [
    "cc = pd.read_csv('CocaColaStock.csv')\n",
    "cc = pd.to_datetime(cc.Date)\n",
    "cc.head()"
   ]
  },
  {
   "cell_type": "code",
   "execution_count": 550,
   "metadata": {},
   "outputs": [
    {
     "data": {
      "text/html": [
       "<div>\n",
       "<style scoped>\n",
       "    .dataframe tbody tr th:only-of-type {\n",
       "        vertical-align: middle;\n",
       "    }\n",
       "\n",
       "    .dataframe tbody tr th {\n",
       "        vertical-align: top;\n",
       "    }\n",
       "\n",
       "    .dataframe thead th {\n",
       "        text-align: right;\n",
       "    }\n",
       "</style>\n",
       "<table border=\"1\" class=\"dataframe\">\n",
       "  <thead>\n",
       "    <tr style=\"text-align: right;\">\n",
       "      <th></th>\n",
       "      <th>StockPrice</th>\n",
       "    </tr>\n",
       "    <tr>\n",
       "      <th>Date</th>\n",
       "      <th></th>\n",
       "    </tr>\n",
       "  </thead>\n",
       "  <tbody>\n",
       "    <tr>\n",
       "      <th>1970</th>\n",
       "      <td>NaN</td>\n",
       "    </tr>\n",
       "    <tr>\n",
       "      <th>1971</th>\n",
       "      <td>0.311270</td>\n",
       "    </tr>\n",
       "    <tr>\n",
       "      <th>1972</th>\n",
       "      <td>0.326026</td>\n",
       "    </tr>\n",
       "    <tr>\n",
       "      <th>1973</th>\n",
       "      <td>0.051119</td>\n",
       "    </tr>\n",
       "    <tr>\n",
       "      <th>1974</th>\n",
       "      <td>-0.358671</td>\n",
       "    </tr>\n",
       "    <tr>\n",
       "      <th>1975</th>\n",
       "      <td>-0.121136</td>\n",
       "    </tr>\n",
       "    <tr>\n",
       "      <th>1976</th>\n",
       "      <td>0.064173</td>\n",
       "    </tr>\n",
       "    <tr>\n",
       "      <th>1977</th>\n",
       "      <td>-0.358428</td>\n",
       "    </tr>\n",
       "    <tr>\n",
       "      <th>1978</th>\n",
       "      <td>-0.238437</td>\n",
       "    </tr>\n",
       "    <tr>\n",
       "      <th>1979</th>\n",
       "      <td>-0.055410</td>\n",
       "    </tr>\n",
       "    <tr>\n",
       "      <th>1980</th>\n",
       "      <td>-0.150157</td>\n",
       "    </tr>\n",
       "    <tr>\n",
       "      <th>1981</th>\n",
       "      <td>0.053902</td>\n",
       "    </tr>\n",
       "    <tr>\n",
       "      <th>1982</th>\n",
       "      <td>0.087095</td>\n",
       "    </tr>\n",
       "    <tr>\n",
       "      <th>1983</th>\n",
       "      <td>0.369060</td>\n",
       "    </tr>\n",
       "    <tr>\n",
       "      <th>1984</th>\n",
       "      <td>0.117251</td>\n",
       "    </tr>\n",
       "    <tr>\n",
       "      <th>1985</th>\n",
       "      <td>0.211931</td>\n",
       "    </tr>\n",
       "    <tr>\n",
       "      <th>1986</th>\n",
       "      <td>-0.012314</td>\n",
       "    </tr>\n",
       "    <tr>\n",
       "      <th>1987</th>\n",
       "      <td>-0.368650</td>\n",
       "    </tr>\n",
       "    <tr>\n",
       "      <th>1988</th>\n",
       "      <td>-0.095488</td>\n",
       "    </tr>\n",
       "    <tr>\n",
       "      <th>1989</th>\n",
       "      <td>0.518334</td>\n",
       "    </tr>\n",
       "    <tr>\n",
       "      <th>1990</th>\n",
       "      <td>-0.085918</td>\n",
       "    </tr>\n",
       "    <tr>\n",
       "      <th>1991</th>\n",
       "      <td>0.071292</td>\n",
       "    </tr>\n",
       "    <tr>\n",
       "      <th>1992</th>\n",
       "      <td>-0.054761</td>\n",
       "    </tr>\n",
       "    <tr>\n",
       "      <th>1993</th>\n",
       "      <td>-0.243225</td>\n",
       "    </tr>\n",
       "    <tr>\n",
       "      <th>1994</th>\n",
       "      <td>0.057133</td>\n",
       "    </tr>\n",
       "    <tr>\n",
       "      <th>1995</th>\n",
       "      <td>0.419466</td>\n",
       "    </tr>\n",
       "    <tr>\n",
       "      <th>1996</th>\n",
       "      <td>-0.044203</td>\n",
       "    </tr>\n",
       "    <tr>\n",
       "      <th>1997</th>\n",
       "      <td>0.029344</td>\n",
       "    </tr>\n",
       "    <tr>\n",
       "      <th>1998</th>\n",
       "      <td>0.167423</td>\n",
       "    </tr>\n",
       "    <tr>\n",
       "      <th>1999</th>\n",
       "      <td>-0.147245</td>\n",
       "    </tr>\n",
       "    <tr>\n",
       "      <th>2000</th>\n",
       "      <td>-0.104887</td>\n",
       "    </tr>\n",
       "    <tr>\n",
       "      <th>2001</th>\n",
       "      <td>-0.120186</td>\n",
       "    </tr>\n",
       "    <tr>\n",
       "      <th>2002</th>\n",
       "      <td>0.018212</td>\n",
       "    </tr>\n",
       "    <tr>\n",
       "      <th>2003</th>\n",
       "      <td>-0.113241</td>\n",
       "    </tr>\n",
       "    <tr>\n",
       "      <th>2004</th>\n",
       "      <td>0.056792</td>\n",
       "    </tr>\n",
       "    <tr>\n",
       "      <th>2005</th>\n",
       "      <td>-0.080474</td>\n",
       "    </tr>\n",
       "    <tr>\n",
       "      <th>2006</th>\n",
       "      <td>0.025051</td>\n",
       "    </tr>\n",
       "    <tr>\n",
       "      <th>2007</th>\n",
       "      <td>0.225665</td>\n",
       "    </tr>\n",
       "    <tr>\n",
       "      <th>2008</th>\n",
       "      <td>0.003608</td>\n",
       "    </tr>\n",
       "    <tr>\n",
       "      <th>2009</th>\n",
       "      <td>-0.097982</td>\n",
       "    </tr>\n",
       "  </tbody>\n",
       "</table>\n",
       "</div>"
      ],
      "text/plain": [
       "      StockPrice\n",
       "Date            \n",
       "1970         NaN\n",
       "1971    0.311270\n",
       "1972    0.326026\n",
       "1973    0.051119\n",
       "1974   -0.358671\n",
       "1975   -0.121136\n",
       "1976    0.064173\n",
       "1977   -0.358428\n",
       "1978   -0.238437\n",
       "1979   -0.055410\n",
       "1980   -0.150157\n",
       "1981    0.053902\n",
       "1982    0.087095\n",
       "1983    0.369060\n",
       "1984    0.117251\n",
       "1985    0.211931\n",
       "1986   -0.012314\n",
       "1987   -0.368650\n",
       "1988   -0.095488\n",
       "1989    0.518334\n",
       "1990   -0.085918\n",
       "1991    0.071292\n",
       "1992   -0.054761\n",
       "1993   -0.243225\n",
       "1994    0.057133\n",
       "1995    0.419466\n",
       "1996   -0.044203\n",
       "1997    0.029344\n",
       "1998    0.167423\n",
       "1999   -0.147245\n",
       "2000   -0.104887\n",
       "2001   -0.120186\n",
       "2002    0.018212\n",
       "2003   -0.113241\n",
       "2004    0.056792\n",
       "2005   -0.080474\n",
       "2006    0.025051\n",
       "2007    0.225665\n",
       "2008    0.003608\n",
       "2009   -0.097982"
      ]
     },
     "execution_count": 550,
     "metadata": {},
     "output_type": "execute_result"
    }
   ],
   "source": [
    "cl = pd.DataFrame(Cocacola.groupby([Cocacola.Date.dt.year]).StockPrice.sum())\n",
    "cl.pct_change()"
   ]
  },
  {
   "cell_type": "markdown",
   "metadata": {},
   "source": [
    "1. Identify the year during which Coca-Cola had the highest/lowest stock price?\n",
    " \n",
    "  **1973 and 1980**\n",
    "\n",
    "\n",
    "2. What calendar year did it look to have the biggest (Year-over-Year) percentage increase?\n",
    "\n",
    "  **1989 with 51%**\n",
    "  \n",
    "  "
   ]
  },
  {
   "cell_type": "markdown",
   "metadata": {},
   "source": [
    "### Part 2"
   ]
  },
  {
   "cell_type": "code",
   "execution_count": 551,
   "metadata": {},
   "outputs": [
    {
     "data": {
      "text/plain": [
       "<matplotlib.legend.Legend at 0x1a1e5426d8>"
      ]
     },
     "execution_count": 551,
     "metadata": {},
     "output_type": "execute_result"
    },
    {
     "data": {
      "image/png": "[encoded data removed]",
      "text/plain": [
       "<Figure size 432x288 with 1 Axes>"
      ]
     },
     "metadata": {
      "needs_background": "light"
     },
     "output_type": "display_data"
    }
   ],
   "source": [
    "#Adding P&G stock price onto the same graph\n",
    "plt.plot(Cocacola.Date, Cocacola.StockPrice,color='blue')\n",
    "plt.plot(ProcterGamble.Date, ProcterGamble.StockPrice, color='Red')\n",
    "plt.legend()"
   ]
  },
  {
   "cell_type": "code",
   "execution_count": 419,
   "metadata": {},
   "outputs": [
    {
     "data": {
      "text/html": [
       "<div>\n",
       "<style scoped>\n",
       "    .dataframe tbody tr th:only-of-type {\n",
       "        vertical-align: middle;\n",
       "    }\n",
       "\n",
       "    .dataframe tbody tr th {\n",
       "        vertical-align: top;\n",
       "    }\n",
       "\n",
       "    .dataframe thead th {\n",
       "        text-align: right;\n",
       "    }\n",
       "</style>\n",
       "<table border=\"1\" class=\"dataframe\">\n",
       "  <thead>\n",
       "    <tr style=\"text-align: right;\">\n",
       "      <th></th>\n",
       "      <th>StockPrice</th>\n",
       "      <th>Date1</th>\n",
       "    </tr>\n",
       "    <tr>\n",
       "      <th>Date</th>\n",
       "      <th></th>\n",
       "      <th></th>\n",
       "    </tr>\n",
       "  </thead>\n",
       "  <tbody>\n",
       "    <tr>\n",
       "      <th>1970</th>\n",
       "      <td>885.908596</td>\n",
       "      <td>1970</td>\n",
       "    </tr>\n",
       "    <tr>\n",
       "      <th>1971</th>\n",
       "      <td>791.611115</td>\n",
       "      <td>1971</td>\n",
       "    </tr>\n",
       "    <tr>\n",
       "      <th>1972</th>\n",
       "      <td>1140.004082</td>\n",
       "      <td>1972</td>\n",
       "    </tr>\n",
       "    <tr>\n",
       "      <th>1973</th>\n",
       "      <td>1232.744569</td>\n",
       "      <td>1973</td>\n",
       "    </tr>\n",
       "    <tr>\n",
       "      <th>1974</th>\n",
       "      <td>1062.900980</td>\n",
       "      <td>1974</td>\n",
       "    </tr>\n",
       "  </tbody>\n",
       "</table>\n",
       "</div>"
      ],
      "text/plain": [
       "       StockPrice  Date1\n",
       "Date                    \n",
       "1970   885.908596   1970\n",
       "1971   791.611115   1971\n",
       "1972  1140.004082   1972\n",
       "1973  1232.744569   1973\n",
       "1974  1062.900980   1974"
      ]
     },
     "execution_count": 419,
     "metadata": {},
     "output_type": "execute_result"
    }
   ],
   "source": [
    "C = pd.DataFrame(Cocacola.groupby([Cocacola.Date.dt.year]).StockPrice.sum())\n",
    "C['Date1'] = C.index\n",
    "P = pd.DataFrame(ProcterGamble.groupby([ProcterGamble.Date.dt.year]).StockPrice.sum())\n",
    "P['Date1'] = P.index\n",
    "P.head()"
   ]
  },
  {
   "cell_type": "code",
   "execution_count": 355,
   "metadata": {
    "scrolled": true
   },
   "outputs": [
    {
     "data": {
      "text/plain": [
       "<matplotlib.legend.Legend at 0x1a1df7d898>"
      ]
     },
     "execution_count": 355,
     "metadata": {},
     "output_type": "execute_result"
    },
    {
     "data": {
      "image/png": "[encoded data removed]",
      "text/plain": [
       "<Figure size 432x288 with 1 Axes>"
      ]
     },
     "metadata": {
      "needs_background": "light"
     },
     "output_type": "display_data"
    }
   ],
   "source": [
    "plt.plot(c.Date1, c.StockPrice, color='blue')\n",
    "plt.plot(p.Date1, p.StockPrice, color='red')\n",
    "plt.legend()"
   ]
  },
  {
   "cell_type": "markdown",
   "metadata": {},
   "source": [
    "1. In March of 2000 the stock market plummeted as the tech bubble burst. Using the plot above, which company’s stock dropped more (relatively – i.e. percentage-wise)?\n",
    "\n",
    "  **Procter and Gamble**\n",
    "  \n",
    "  \n",
    "2. In the year 1983 which company stock was going up? Which was going down?\n",
    "  \n",
    " \n",
    "   **Cocacola was going up and Procter and Gamble was trending down**\n",
    "   \n",
    "\n",
    "3. Across the entire time period shown in your plot which stock had a generally lower price?\n",
    "  \n",
    "  \n",
    "  **CocaCola**"
   ]
  },
  {
   "cell_type": "markdown",
   "metadata": {},
   "source": [
    "### Data Visualization from 1995-2005:"
   ]
  },
  {
   "cell_type": "code",
   "execution_count": 356,
   "metadata": {},
   "outputs": [],
   "source": [
    "c = Cocacola[(Cocacola['Date'] >= '1995-01-01') & (Cocacola['Date'] <= '2005-12-31')]\n",
    "g = GE[(GE['Date'] >= '1995-01-01') & (GE['Date'] <= '2005-12-31')]\n",
    "b = Boeing[(Boeing['Date'] >= '1995-01-01') & (Boeing['Date'] <= '2005-12-31')]\n",
    "i = IBM[(IBM['Date'] >= '1995-01-01') & (IBM['Date'] <= '2005-12-31')]\n",
    "p = ProcterGamble[(ProcterGamble.Date >= '1995-01-01') & (ProcterGamble.Date <= '2005-12-31')]"
   ]
  },
  {
   "cell_type": "code",
   "execution_count": 357,
   "metadata": {},
   "outputs": [
    {
     "data": {
      "text/plain": [
       "<matplotlib.legend.Legend at 0x1a1e0b47f0>"
      ]
     },
     "execution_count": 357,
     "metadata": {},
     "output_type": "execute_result"
    },
    {
     "data": {
      "image/png": "[encoded data removed]",
      "text/plain": [
       "<Figure size 432x288 with 1 Axes>"
      ]
     },
     "metadata": {
      "needs_background": "light"
     },
     "output_type": "display_data"
    }
   ],
   "source": [
    "plt.plot(c.Date, c.StockPrice, color = 'blue', label = 'Coca')\n",
    "plt.plot(g.Date, g.StockPrice, color = 'green', label = 'GE')\n",
    "plt.plot(b.Date, b.StockPrice, color = 'red', label = 'Boeing')\n",
    "plt.plot(i.Date, i.StockPrice, color = 'black', label = 'IBM')\n",
    "plt.plot(p.Date, p.StockPrice, color = 'cyan', label = 'P&G')\n",
    "plt.legend()"
   ]
  },
  {
   "cell_type": "code",
   "execution_count": 370,
   "metadata": {},
   "outputs": [],
   "source": [
    "c1 = Cocacola[(Cocacola['Date'] >= '1997-09-01') & (Cocacola['Date'] <= '1997-11-01')]\n",
    "g1 = GE[(GE['Date'] >= '1997-09-01') & (GE['Date'] <= '1997-11-01')]\n",
    "b1 = Boeing[(Boeing['Date'] >= '1997-09-01') & (Boeing['Date'] <= '1997-11-01')]\n",
    "i1 = IBM[(IBM['Date'] >= '1997-09-01') & (IBM['Date'] <= '1997-11-01')]\n",
    "p1 = ProcterGamble[(ProcterGamble.Date >= '1997-09-01') & (ProcterGamble.Date <= '1997-11-01')]"
   ]
  },
  {
   "cell_type": "code",
   "execution_count": 373,
   "metadata": {
    "scrolled": true
   },
   "outputs": [
    {
     "data": {
      "text/plain": [
       "<matplotlib.legend.Legend at 0x1a1e143b00>"
      ]
     },
     "execution_count": 373,
     "metadata": {},
     "output_type": "execute_result"
    },
    {
     "data": {
      "image/png": "[encoded data removed]",
      "text/plain": [
       "<Figure size 432x288 with 1 Axes>"
      ]
     },
     "metadata": {
      "needs_background": "light"
     },
     "output_type": "display_data"
    }
   ],
   "source": [
    "plt.plot(c1.Date, c1.StockPrice, color = 'blue', label = 'Coca')\n",
    "plt.plot(g1.Date, g1.StockPrice, color = 'green', label = 'GE')\n",
    "plt.plot(b1.Date, b1.StockPrice, color = 'red', label = 'Boeing')\n",
    "plt.plot(i1.Date, i1.StockPrice, color = 'black', label = 'IBM')\n",
    "plt.plot(p1.Date, p1.StockPrice, color = 'cyan', label = 'P&G')\n",
    "plt.legend()"
   ]
  },
  {
   "cell_type": "code",
   "execution_count": 437,
   "metadata": {},
   "outputs": [
    {
     "data": {
      "text/html": [
       "<div>\n",
       "<style scoped>\n",
       "    .dataframe tbody tr th:only-of-type {\n",
       "        vertical-align: middle;\n",
       "    }\n",
       "\n",
       "    .dataframe tbody tr th {\n",
       "        vertical-align: top;\n",
       "    }\n",
       "\n",
       "    .dataframe thead th {\n",
       "        text-align: right;\n",
       "    }\n",
       "</style>\n",
       "<table border=\"1\" class=\"dataframe\">\n",
       "  <thead>\n",
       "    <tr style=\"text-align: right;\">\n",
       "      <th></th>\n",
       "      <th>StockPrice</th>\n",
       "      <th>Date1</th>\n",
       "    </tr>\n",
       "    <tr>\n",
       "      <th>Date</th>\n",
       "      <th></th>\n",
       "      <th></th>\n",
       "    </tr>\n",
       "  </thead>\n",
       "  <tbody>\n",
       "    <tr>\n",
       "      <th>1970</th>\n",
       "      <td>3572.059422</td>\n",
       "      <td>1970</td>\n",
       "    </tr>\n",
       "    <tr>\n",
       "      <th>1971</th>\n",
       "      <td>3862.394243</td>\n",
       "      <td>1971</td>\n",
       "    </tr>\n",
       "    <tr>\n",
       "      <th>1972</th>\n",
       "      <td>4650.987798</td>\n",
       "      <td>1972</td>\n",
       "    </tr>\n",
       "    <tr>\n",
       "      <th>1973</th>\n",
       "      <td>4134.343471</td>\n",
       "      <td>1973</td>\n",
       "    </tr>\n",
       "    <tr>\n",
       "      <th>1974</th>\n",
       "      <td>2498.503241</td>\n",
       "      <td>1974</td>\n",
       "    </tr>\n",
       "  </tbody>\n",
       "</table>\n",
       "</div>"
      ],
      "text/plain": [
       "       StockPrice  Date1\n",
       "Date                    \n",
       "1970  3572.059422   1970\n",
       "1971  3862.394243   1971\n",
       "1972  4650.987798   1972\n",
       "1973  4134.343471   1973\n",
       "1974  2498.503241   1974"
      ]
     },
     "execution_count": 437,
     "metadata": {},
     "output_type": "execute_result"
    }
   ],
   "source": [
    "B = pd.DataFrame(Boeing.groupby([Boeing.Date.dt.year]).StockPrice.sum())\n",
    "B['Date1'] = B.index \n",
    "G = pd.DataFrame(GE.groupby([ProcterGamble.Date.dt.year]).StockPrice.sum())\n",
    "G['Date1'] = G.index \n",
    "I = pd.DataFrame(IBM.groupby([IBM.Date.dt.year]).StockPrice.sum())\n",
    "I['Date1']=I.index\n",
    "I = pd.DataFrame(IBM.groupby([IBM.Date.dt.year]).StockPrice.sum())\n",
    "I['Date1']=I.index\n",
    "I.head()"
   ]
  },
  {
   "cell_type": "code",
   "execution_count": 439,
   "metadata": {},
   "outputs": [
    {
     "name": "stdout",
     "output_type": "stream",
     "text": [
      "StockPrice    174.266041\n",
      "Date1           1.000000\n",
      "dtype: float64\n",
      "StockPrice   -271.238161\n",
      "Date1           1.000000\n",
      "dtype: float64\n",
      "StockPrice   -81.956896\n",
      "Date1          1.000000\n",
      "dtype: float64\n",
      "StockPrice   -44.905967\n",
      "Date1          1.000000\n",
      "dtype: float64\n",
      "StockPrice    28.590659\n",
      "Date1          1.000000\n",
      "dtype: float64\n"
     ]
    }
   ],
   "source": [
    "print(B.loc[2005,:] - B.loc[2004,:])\n",
    "print(P.loc[2005,:] - P.loc[2004,:])\n",
    "print(I.loc[2005,:] - I.loc[2004,:])\n",
    "print(C.loc[2005,:] - C.loc[2004,:])\n",
    "print(G.loc[2005,:] - G.loc[2004,:])"
   ]
  },
  {
   "cell_type": "code",
   "execution_count": 442,
   "metadata": {},
   "outputs": [
    {
     "name": "stdout",
     "output_type": "stream",
     "text": [
      "45.67551948\n",
      "133.77789472999999\n",
      "146.76306522000002\n",
      "80.66904762\n",
      "96.62526316\n"
     ]
    }
   ],
   "source": [
    "print(max(c.StockPrice)-min(c.StockPrice))\n",
    "print(max(g.StockPrice)-min(g.StockPrice))\n",
    "print(max(i.StockPrice)-min(i.StockPrice))\n",
    "print(max(b.StockPrice)-min(b.StockPrice))\n",
    "print(max(p.StockPrice)-min(p.StockPrice))"
   ]
  },
  {
   "cell_type": "code",
   "execution_count": 559,
   "metadata": {},
   "outputs": [
    {
     "data": {
      "text/html": [
       "<div>\n",
       "<style scoped>\n",
       "    .dataframe tbody tr th:only-of-type {\n",
       "        vertical-align: middle;\n",
       "    }\n",
       "\n",
       "    .dataframe tbody tr th {\n",
       "        vertical-align: top;\n",
       "    }\n",
       "\n",
       "    .dataframe thead th {\n",
       "        text-align: right;\n",
       "    }\n",
       "</style>\n",
       "<table border=\"1\" class=\"dataframe\">\n",
       "  <thead>\n",
       "    <tr style=\"text-align: right;\">\n",
       "      <th></th>\n",
       "      <th>Cocacola</th>\n",
       "      <th>GE</th>\n",
       "      <th>IBM</th>\n",
       "      <th>Boeing</th>\n",
       "      <th>ProcterGamble</th>\n",
       "    </tr>\n",
       "  </thead>\n",
       "  <tbody>\n",
       "    <tr>\n",
       "      <th>Cocacola</th>\n",
       "      <td>1.000000</td>\n",
       "      <td>0.177544</td>\n",
       "      <td>0.722748</td>\n",
       "      <td>-0.330526</td>\n",
       "      <td>0.332013</td>\n",
       "    </tr>\n",
       "    <tr>\n",
       "      <th>GE</th>\n",
       "      <td>0.177544</td>\n",
       "      <td>1.000000</td>\n",
       "      <td>0.109837</td>\n",
       "      <td>-0.096343</td>\n",
       "      <td>0.186532</td>\n",
       "    </tr>\n",
       "    <tr>\n",
       "      <th>IBM</th>\n",
       "      <td>0.722748</td>\n",
       "      <td>0.109837</td>\n",
       "      <td>1.000000</td>\n",
       "      <td>-0.367528</td>\n",
       "      <td>0.316400</td>\n",
       "    </tr>\n",
       "    <tr>\n",
       "      <th>Boeing</th>\n",
       "      <td>-0.330526</td>\n",
       "      <td>-0.096343</td>\n",
       "      <td>-0.367528</td>\n",
       "      <td>1.000000</td>\n",
       "      <td>-0.086205</td>\n",
       "    </tr>\n",
       "    <tr>\n",
       "      <th>ProcterGamble</th>\n",
       "      <td>0.332013</td>\n",
       "      <td>0.186532</td>\n",
       "      <td>0.316400</td>\n",
       "      <td>-0.086205</td>\n",
       "      <td>1.000000</td>\n",
       "    </tr>\n",
       "  </tbody>\n",
       "</table>\n",
       "</div>"
      ],
      "text/plain": [
       "               Cocacola        GE       IBM    Boeing  ProcterGamble\n",
       "Cocacola       1.000000  0.177544  0.722748 -0.330526       0.332013\n",
       "GE             0.177544  1.000000  0.109837 -0.096343       0.186532\n",
       "IBM            0.722748  0.109837  1.000000 -0.367528       0.316400\n",
       "Boeing        -0.330526 -0.096343 -0.367528  1.000000      -0.086205\n",
       "ProcterGamble  0.332013  0.186532  0.316400 -0.086205       1.000000"
      ]
     },
     "execution_count": 559,
     "metadata": {},
     "output_type": "execute_result"
    }
   ],
   "source": [
    "## Correlation Matrix\n",
    "cor = pd.concat([Cocacola, GE, IBM, Boeing, ProcterGamble], axis=1)\n",
    "cor = cor.drop(columns = 'Date')\n",
    "cor.columns = ['Cocacola', 'GE', 'IBM', 'Boeing', 'ProcterGamble']\n",
    "cor.tail()\n",
    "cor.corr()"
   ]
  },
  {
   "cell_type": "markdown",
   "metadata": {},
   "source": [
    "1. Which stock price fell the most right after the tech bubble of March 2000?\n",
    "\n",
    "    **GE**\n",
    "    \n",
    "    \n",
    "2. What stock had the highest maximum price between 1995-2005?\n",
    "\n",
    "    **IBM**\n",
    "    \n",
    "    \n",
    "3. A few years before the tech bubble of 1997, there was another stock market crash trigged by economic crisis in Asia in October of 1997. If you compare stock prices from September 1997 to November 1997, which companies saw a decrease in price? Which company experienced the biggest decrease?\n",
    "\n",
    "    **P&G**\n",
    "    \n",
    "    \n",
    "4. Which stock seemed to provide the best return (i.e. increase in price) between 2004-2005?\n",
    "\n",
    "    **Boeing**\n",
    "    \n",
    "    \n",
    "5. Between 1995-2005, which company had the biggest delta between the maximum and minimum stock price?\n",
    "\n",
    "    **IBM**\n",
    "    \n",
    "    \n",
    "6. Which two companies’ stock price seem to be the most correlated (i.e. move up/down together)?\n",
    "\n",
    "    **IBM and Cocacola**\n",
    "\n",
    "\n"
   ]
  },
  {
   "cell_type": "markdown",
   "metadata": {},
   "source": [
    "### Monthly Trend Analysis\n"
   ]
  },
  {
   "cell_type": "code",
   "execution_count": 496,
   "metadata": {
    "scrolled": false
   },
   "outputs": [
    {
     "name": "stdout",
     "output_type": "stream",
     "text": [
      "      StockPrice\n",
      "Date            \n",
      "1     150.238423\n",
      "2     152.693993\n",
      "3     152.432690\n",
      "4     152.116824\n",
      "5     151.502194\n",
      "6     139.090676\n",
      "7     139.067018\n",
      "8     140.145475\n",
      "9     139.088527\n",
      "10    137.346553\n",
      "11    138.018682\n",
      "12    140.759310\n"
     ]
    },
    {
     "data": {
      "text/plain": [
       "StockPrice    144.37503\n",
       "dtype: float64"
      ]
     },
     "execution_count": 496,
     "metadata": {},
     "output_type": "execute_result"
    }
   ],
   "source": [
    "\n",
    "print(pd.DataFrame(IBM.groupby([IBM.Date.dt.month]).StockPrice.mean()))\n",
    "IBM.mean()"
   ]
  },
  {
   "cell_type": "code",
   "execution_count": 535,
   "metadata": {},
   "outputs": [
    {
     "data": {
      "text/plain": [
       "StockPrice    64.480092\n",
       "Name: 4, dtype: float64"
      ]
     },
     "execution_count": 535,
     "metadata": {},
     "output_type": "execute_result"
    }
   ],
   "source": [
    "General = pd.DataFrame(GE.groupby([GE.Date.dt.month]).StockPrice.mean())\n",
    "General.loc[General['StockPrice'].idxmax()]"
   ]
  },
  {
   "cell_type": "code",
   "execution_count": 534,
   "metadata": {},
   "outputs": [
    {
     "data": {
      "text/plain": [
       "StockPrice    62.688882\n",
       "Name: 4, dtype: float64"
      ]
     },
     "execution_count": 534,
     "metadata": {},
     "output_type": "execute_result"
    }
   ],
   "source": [
    "coke = pd.DataFrame(Cocacola.groupby([Cocacola.Date.dt.month]).StockPrice.mean())\n",
    "coke.loc[coke['StockPrice'].idxmax()]"
   ]
  },
  {
   "cell_type": "code",
   "execution_count": 527,
   "metadata": {},
   "outputs": [
    {
     "data": {
      "text/plain": [
       "StockPrice    48.13716\n",
       "Name: 5, dtype: float64"
      ]
     },
     "execution_count": 527,
     "metadata": {},
     "output_type": "execute_result"
    }
   ],
   "source": [
    "Bo = pd.DataFrame(Boeing.groupby([Boeing.Date.dt.month]).StockPrice.mean())\n",
    "Bo.loc[Bo['StockPrice'].idxmax()]"
   ]
  },
  {
   "cell_type": "code",
   "execution_count": 528,
   "metadata": {},
   "outputs": [
    {
     "data": {
      "text/plain": [
       "StockPrice    79.617984\n",
       "Name: 1, dtype: float64"
      ]
     },
     "execution_count": 528,
     "metadata": {},
     "output_type": "execute_result"
    }
   ],
   "source": [
    "PnG = pd.DataFrame(ProcterGamble.groupby([ProcterGamble.Date.dt.month]).StockPrice.mean())\n",
    "PnG.loc[PnG['StockPrice'].idxmax()]"
   ]
  },
  {
   "cell_type": "code",
   "execution_count": 536,
   "metadata": {},
   "outputs": [
    {
     "name": "stdout",
     "output_type": "stream",
     "text": [
      "      StockPrice\n",
      "Date            \n",
      "1      62.045106\n",
      "2      62.520805\n",
      "3      63.150548\n",
      "4      64.480092\n",
      "5      60.871351\n",
      "6      56.468439\n",
      "7      56.733493\n",
      "8      56.503149\n",
      "9      56.239131\n",
      "10     56.238968\n",
      "11     57.288795\n",
      "12     59.102174\n",
      "      StockPrice\n",
      "Date            \n",
      "1      60.368487\n",
      "2      60.734754\n",
      "3      62.071354\n",
      "4      62.688882\n",
      "5      61.443581\n",
      "6      60.812084\n",
      "7      58.983460\n",
      "8      58.880139\n",
      "9      57.600238\n",
      "10     57.938868\n",
      "11     59.102683\n",
      "12     59.732227\n",
      "      StockPrice\n",
      "Date            \n",
      "1      46.510974\n",
      "2      46.892233\n",
      "3      46.882076\n",
      "4      47.046860\n",
      "5      48.137160\n",
      "6      47.385255\n",
      "7      46.553602\n",
      "8      46.863107\n",
      "9      46.304854\n",
      "10     45.216035\n",
      "11     45.149903\n",
      "12     46.173146\n",
      "      StockPrice\n",
      "Date            \n",
      "1      79.617984\n",
      "2      79.025755\n",
      "3      77.347607\n",
      "4      77.686708\n",
      "5      77.859578\n",
      "6      77.392751\n",
      "7      76.645559\n",
      "8      76.822663\n",
      "9      76.623845\n",
      "10     76.679035\n",
      "11     78.456104\n",
      "12     78.296608\n",
      "      StockPrice\n",
      "Date            \n",
      "1     150.238423\n",
      "2     152.693993\n",
      "3     152.432690\n",
      "4     152.116824\n",
      "5     151.502194\n",
      "6     139.090676\n",
      "7     139.067018\n",
      "8     140.145475\n",
      "9     139.088527\n",
      "10    137.346553\n",
      "11    138.018682\n",
      "12    140.759310\n"
     ]
    }
   ],
   "source": [
    "#Decreasing\n",
    "print(pd.DataFrame(GE.groupby([GE.Date.dt.month]).StockPrice.mean()))\n",
    "print(pd.DataFrame(Cocacola.groupby([Cocacola.Date.dt.month]).StockPrice.mean()))\n",
    "print(pd.DataFrame(Boeing.groupby([Boeing.Date.dt.month]).StockPrice.mean()))\n",
    "print(pd.DataFrame(ProcterGamble.groupby([ProcterGamble.Date.dt.month]).StockPrice.mean()))\n",
    "print(pd.DataFrame(IBM.groupby([IBM.Date.dt.month]).StockPrice.mean()))"
   ]
  },
  {
   "cell_type": "markdown",
   "metadata": {},
   "source": [
    "1. ForIBM,compare the average stock price for each month to the its overall average stockprice and identify all the months for which IBM historically had a higher stock price (we call this over- indexing)? Which month over-indexed the most?\n",
    "\n",
    "    **Jan - May for IBM**\n",
    "    \n",
    "    \n",
    "2. Repeat the tapply() function you used to solve the last question for each of the 4 remaining companies. Do any of two or more companies have their highest stock price in the same months as each other? Which companies and months does this happen for?\n",
    "\n",
    "\n",
    "   **GE and coke**\n",
    "\n",
    "3. What trend do you see for the months of December vs January for each company? Is there an over-arching trend that applies to all companies when comparing all historical December vs January stock prices?\n",
    "\n",
    "    **Decreasing trend from Jan to Dec**"
   ]
  },
  {
   "cell_type": "code",
   "execution_count": null,
   "metadata": {},
   "outputs": [],
   "source": []
  }
 ],
 "metadata": {
  "kernelspec": {
   "display_name": "Python 3",
   "language": "python",
   "name": "python3"
  },
  "language_info": {
   "codemirror_mode": {
    "name": "ipython",
    "version": 3
   },
   "file_extension": ".py",
   "mimetype": "text/x-python",
   "name": "python",
   "nbconvert_exporter": "python",
   "pygments_lexer": "ipython3",
   "version": "3.7.1"
  }
 },
 "nbformat": 4,
 "nbformat_minor": 2
}
